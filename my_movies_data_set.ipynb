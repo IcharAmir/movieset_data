{
 "cells": [
  {
   "cell_type": "markdown",
   "id": "488962be",
   "metadata": {},
   "source": [
    "                                    Table of Content\n",
    "1. Introduction\n",
    "2. Imports\n",
    "3. Data wrangling\n",
    "4. Exploratory Data Analysis\n",
    "5. Conclusion"
   ]
  },
  {
   "cell_type": "markdown",
   "id": "6f83c677",
   "metadata": {},
   "source": [
    "                                        INTRODUCTION\n",
    "In this project,I will be investigating a data set that contains data on movies produced from 1960 to 2016, with data like the movies budget,revenue,genres,production companies, directors,cast, release_date,release_year and popularity. \n"
   ]
  },
  {
   "cell_type": "markdown",
   "id": "fad9ba1e",
   "metadata": {},
   "source": [
    "                                         QUESTIONS:\n",
    "1. Which movie has the highest revenues and budget?\n",
    "2. Which movie made the highest profits?\n",
    "3. Which production companies produced the movies with the highest revenue and budget.\n",
    "4. What movies are the most popular?\n",
    "5. Which year has the highest release date of movies? \n",
    "6. Which months have the highest release date?\n",
    "7. Which genres is the most popular and the year?\n",
    "8. Who directed the movies with the highest profits?\n",
    "9. What movies have the longest runtime?"
   ]
  },
  {
   "cell_type": "markdown",
   "id": "038921ad",
   "metadata": {},
   "source": [
    "                                        IMPORTS"
   ]
  },
  {
   "cell_type": "code",
   "execution_count": 94,
   "id": "ede1df96",
   "metadata": {},
   "outputs": [],
   "source": [
    "import numpy as np\n",
    "import pandas as pd\n",
    "import matplotlib.pyplot as plt\n",
    "import seaborn as sns\n",
    "%matplotlib inline"
   ]
  },
  {
   "cell_type": "markdown",
   "id": "3fc80f49",
   "metadata": {},
   "source": [
    "                                    DATA WRANGLING"
   ]
  },
  {
   "cell_type": "code",
   "execution_count": 95,
   "id": "e6fdb634",
   "metadata": {},
   "outputs": [
    {
     "data": {
      "text/html": [
       "<div>\n",
       "<style scoped>\n",
       "    .dataframe tbody tr th:only-of-type {\n",
       "        vertical-align: middle;\n",
       "    }\n",
       "\n",
       "    .dataframe tbody tr th {\n",
       "        vertical-align: top;\n",
       "    }\n",
       "\n",
       "    .dataframe thead th {\n",
       "        text-align: right;\n",
       "    }\n",
       "</style>\n",
       "<table border=\"1\" class=\"dataframe\">\n",
       "  <thead>\n",
       "    <tr style=\"text-align: right;\">\n",
       "      <th></th>\n",
       "      <th>id</th>\n",
       "      <th>imdb_id</th>\n",
       "      <th>popularity</th>\n",
       "      <th>budget</th>\n",
       "      <th>revenue</th>\n",
       "      <th>original_title</th>\n",
       "      <th>cast</th>\n",
       "      <th>homepage</th>\n",
       "      <th>director</th>\n",
       "      <th>tagline</th>\n",
       "      <th>...</th>\n",
       "      <th>overview</th>\n",
       "      <th>runtime</th>\n",
       "      <th>genres</th>\n",
       "      <th>production_companies</th>\n",
       "      <th>release_date</th>\n",
       "      <th>vote_count</th>\n",
       "      <th>vote_average</th>\n",
       "      <th>release_year</th>\n",
       "      <th>budget_adj</th>\n",
       "      <th>revenue_adj</th>\n",
       "    </tr>\n",
       "  </thead>\n",
       "  <tbody>\n",
       "    <tr>\n",
       "      <th>0</th>\n",
       "      <td>135397</td>\n",
       "      <td>tt0369610</td>\n",
       "      <td>32.985763</td>\n",
       "      <td>150000000</td>\n",
       "      <td>1513528810</td>\n",
       "      <td>Jurassic World</td>\n",
       "      <td>Chris Pratt|Bryce Dallas Howard|Irrfan Khan|Vi...</td>\n",
       "      <td>http://www.jurassicworld.com/</td>\n",
       "      <td>Colin Trevorrow</td>\n",
       "      <td>The park is open.</td>\n",
       "      <td>...</td>\n",
       "      <td>Twenty-two years after the events of Jurassic ...</td>\n",
       "      <td>124</td>\n",
       "      <td>Action|Adventure|Science Fiction|Thriller</td>\n",
       "      <td>Universal Studios|Amblin Entertainment|Legenda...</td>\n",
       "      <td>6/9/15</td>\n",
       "      <td>5562</td>\n",
       "      <td>6.5</td>\n",
       "      <td>2015</td>\n",
       "      <td>1.379999e+08</td>\n",
       "      <td>1.392446e+09</td>\n",
       "    </tr>\n",
       "    <tr>\n",
       "      <th>1</th>\n",
       "      <td>76341</td>\n",
       "      <td>tt1392190</td>\n",
       "      <td>28.419936</td>\n",
       "      <td>150000000</td>\n",
       "      <td>378436354</td>\n",
       "      <td>Mad Max: Fury Road</td>\n",
       "      <td>Tom Hardy|Charlize Theron|Hugh Keays-Byrne|Nic...</td>\n",
       "      <td>http://www.madmaxmovie.com/</td>\n",
       "      <td>George Miller</td>\n",
       "      <td>What a Lovely Day.</td>\n",
       "      <td>...</td>\n",
       "      <td>An apocalyptic story set in the furthest reach...</td>\n",
       "      <td>120</td>\n",
       "      <td>Action|Adventure|Science Fiction|Thriller</td>\n",
       "      <td>Village Roadshow Pictures|Kennedy Miller Produ...</td>\n",
       "      <td>5/13/15</td>\n",
       "      <td>6185</td>\n",
       "      <td>7.1</td>\n",
       "      <td>2015</td>\n",
       "      <td>1.379999e+08</td>\n",
       "      <td>3.481613e+08</td>\n",
       "    </tr>\n",
       "    <tr>\n",
       "      <th>2</th>\n",
       "      <td>262500</td>\n",
       "      <td>tt2908446</td>\n",
       "      <td>13.112507</td>\n",
       "      <td>110000000</td>\n",
       "      <td>295238201</td>\n",
       "      <td>Insurgent</td>\n",
       "      <td>Shailene Woodley|Theo James|Kate Winslet|Ansel...</td>\n",
       "      <td>http://www.thedivergentseries.movie/#insurgent</td>\n",
       "      <td>Robert Schwentke</td>\n",
       "      <td>One Choice Can Destroy You</td>\n",
       "      <td>...</td>\n",
       "      <td>Beatrice Prior must confront her inner demons ...</td>\n",
       "      <td>119</td>\n",
       "      <td>Adventure|Science Fiction|Thriller</td>\n",
       "      <td>Summit Entertainment|Mandeville Films|Red Wago...</td>\n",
       "      <td>3/18/15</td>\n",
       "      <td>2480</td>\n",
       "      <td>6.3</td>\n",
       "      <td>2015</td>\n",
       "      <td>1.012000e+08</td>\n",
       "      <td>2.716190e+08</td>\n",
       "    </tr>\n",
       "    <tr>\n",
       "      <th>3</th>\n",
       "      <td>140607</td>\n",
       "      <td>tt2488496</td>\n",
       "      <td>11.173104</td>\n",
       "      <td>200000000</td>\n",
       "      <td>2068178225</td>\n",
       "      <td>Star Wars: The Force Awakens</td>\n",
       "      <td>Harrison Ford|Mark Hamill|Carrie Fisher|Adam D...</td>\n",
       "      <td>http://www.starwars.com/films/star-wars-episod...</td>\n",
       "      <td>J.J. Abrams</td>\n",
       "      <td>Every generation has a story.</td>\n",
       "      <td>...</td>\n",
       "      <td>Thirty years after defeating the Galactic Empi...</td>\n",
       "      <td>136</td>\n",
       "      <td>Action|Adventure|Science Fiction|Fantasy</td>\n",
       "      <td>Lucasfilm|Truenorth Productions|Bad Robot</td>\n",
       "      <td>12/15/15</td>\n",
       "      <td>5292</td>\n",
       "      <td>7.5</td>\n",
       "      <td>2015</td>\n",
       "      <td>1.839999e+08</td>\n",
       "      <td>1.902723e+09</td>\n",
       "    </tr>\n",
       "    <tr>\n",
       "      <th>4</th>\n",
       "      <td>168259</td>\n",
       "      <td>tt2820852</td>\n",
       "      <td>9.335014</td>\n",
       "      <td>190000000</td>\n",
       "      <td>1506249360</td>\n",
       "      <td>Furious 7</td>\n",
       "      <td>Vin Diesel|Paul Walker|Jason Statham|Michelle ...</td>\n",
       "      <td>http://www.furious7.com/</td>\n",
       "      <td>James Wan</td>\n",
       "      <td>Vengeance Hits Home</td>\n",
       "      <td>...</td>\n",
       "      <td>Deckard Shaw seeks revenge against Dominic Tor...</td>\n",
       "      <td>137</td>\n",
       "      <td>Action|Crime|Thriller</td>\n",
       "      <td>Universal Pictures|Original Film|Media Rights ...</td>\n",
       "      <td>4/1/15</td>\n",
       "      <td>2947</td>\n",
       "      <td>7.3</td>\n",
       "      <td>2015</td>\n",
       "      <td>1.747999e+08</td>\n",
       "      <td>1.385749e+09</td>\n",
       "    </tr>\n",
       "  </tbody>\n",
       "</table>\n",
       "<p>5 rows × 21 columns</p>\n",
       "</div>"
      ],
      "text/plain": [
       "       id    imdb_id  popularity     budget     revenue  \\\n",
       "0  135397  tt0369610   32.985763  150000000  1513528810   \n",
       "1   76341  tt1392190   28.419936  150000000   378436354   \n",
       "2  262500  tt2908446   13.112507  110000000   295238201   \n",
       "3  140607  tt2488496   11.173104  200000000  2068178225   \n",
       "4  168259  tt2820852    9.335014  190000000  1506249360   \n",
       "\n",
       "                 original_title  \\\n",
       "0                Jurassic World   \n",
       "1            Mad Max: Fury Road   \n",
       "2                     Insurgent   \n",
       "3  Star Wars: The Force Awakens   \n",
       "4                     Furious 7   \n",
       "\n",
       "                                                cast  \\\n",
       "0  Chris Pratt|Bryce Dallas Howard|Irrfan Khan|Vi...   \n",
       "1  Tom Hardy|Charlize Theron|Hugh Keays-Byrne|Nic...   \n",
       "2  Shailene Woodley|Theo James|Kate Winslet|Ansel...   \n",
       "3  Harrison Ford|Mark Hamill|Carrie Fisher|Adam D...   \n",
       "4  Vin Diesel|Paul Walker|Jason Statham|Michelle ...   \n",
       "\n",
       "                                            homepage          director  \\\n",
       "0                      http://www.jurassicworld.com/   Colin Trevorrow   \n",
       "1                        http://www.madmaxmovie.com/     George Miller   \n",
       "2     http://www.thedivergentseries.movie/#insurgent  Robert Schwentke   \n",
       "3  http://www.starwars.com/films/star-wars-episod...       J.J. Abrams   \n",
       "4                           http://www.furious7.com/         James Wan   \n",
       "\n",
       "                         tagline  ...  \\\n",
       "0              The park is open.  ...   \n",
       "1             What a Lovely Day.  ...   \n",
       "2     One Choice Can Destroy You  ...   \n",
       "3  Every generation has a story.  ...   \n",
       "4            Vengeance Hits Home  ...   \n",
       "\n",
       "                                            overview runtime  \\\n",
       "0  Twenty-two years after the events of Jurassic ...     124   \n",
       "1  An apocalyptic story set in the furthest reach...     120   \n",
       "2  Beatrice Prior must confront her inner demons ...     119   \n",
       "3  Thirty years after defeating the Galactic Empi...     136   \n",
       "4  Deckard Shaw seeks revenge against Dominic Tor...     137   \n",
       "\n",
       "                                      genres  \\\n",
       "0  Action|Adventure|Science Fiction|Thriller   \n",
       "1  Action|Adventure|Science Fiction|Thriller   \n",
       "2         Adventure|Science Fiction|Thriller   \n",
       "3   Action|Adventure|Science Fiction|Fantasy   \n",
       "4                      Action|Crime|Thriller   \n",
       "\n",
       "                                production_companies release_date vote_count  \\\n",
       "0  Universal Studios|Amblin Entertainment|Legenda...       6/9/15       5562   \n",
       "1  Village Roadshow Pictures|Kennedy Miller Produ...      5/13/15       6185   \n",
       "2  Summit Entertainment|Mandeville Films|Red Wago...      3/18/15       2480   \n",
       "3          Lucasfilm|Truenorth Productions|Bad Robot     12/15/15       5292   \n",
       "4  Universal Pictures|Original Film|Media Rights ...       4/1/15       2947   \n",
       "\n",
       "   vote_average  release_year    budget_adj   revenue_adj  \n",
       "0           6.5          2015  1.379999e+08  1.392446e+09  \n",
       "1           7.1          2015  1.379999e+08  3.481613e+08  \n",
       "2           6.3          2015  1.012000e+08  2.716190e+08  \n",
       "3           7.5          2015  1.839999e+08  1.902723e+09  \n",
       "4           7.3          2015  1.747999e+08  1.385749e+09  \n",
       "\n",
       "[5 rows x 21 columns]"
      ]
     },
     "execution_count": 95,
     "metadata": {},
     "output_type": "execute_result"
    }
   ],
   "source": [
    "#To read your data file,use the 'read_csv'.\n",
    "data_mv = pd.read_csv(r'C:\\Users\\Charles\\Desktop\\tmdb-movies.csv')\n",
    "#Show the first 5 lines of your data,if you switch .head to .tail, you will get the last 5. \n",
    "data_mv.head()"
   ]
  },
  {
   "cell_type": "code",
   "execution_count": 96,
   "id": "5f12330a",
   "metadata": {},
   "outputs": [
    {
     "data": {
      "text/plain": [
       "(10866, 21)"
      ]
     },
     "execution_count": 96,
     "metadata": {},
     "output_type": "execute_result"
    }
   ],
   "source": [
    "#To get the numbers of rows and columns in your data. \n",
    "data_mv.shape"
   ]
  },
  {
   "cell_type": "markdown",
   "id": "5eb4b471",
   "metadata": {},
   "source": [
    "In this case, we have 10,866 rows & 21 columns"
   ]
  },
  {
   "cell_type": "code",
   "execution_count": 97,
   "id": "bfe7282e",
   "metadata": {},
   "outputs": [
    {
     "data": {
      "text/html": [
       "<div>\n",
       "<style scoped>\n",
       "    .dataframe tbody tr th:only-of-type {\n",
       "        vertical-align: middle;\n",
       "    }\n",
       "\n",
       "    .dataframe tbody tr th {\n",
       "        vertical-align: top;\n",
       "    }\n",
       "\n",
       "    .dataframe thead th {\n",
       "        text-align: right;\n",
       "    }\n",
       "</style>\n",
       "<table border=\"1\" class=\"dataframe\">\n",
       "  <thead>\n",
       "    <tr style=\"text-align: right;\">\n",
       "      <th></th>\n",
       "      <th>id</th>\n",
       "      <th>popularity</th>\n",
       "      <th>budget</th>\n",
       "      <th>revenue</th>\n",
       "      <th>runtime</th>\n",
       "      <th>vote_count</th>\n",
       "      <th>vote_average</th>\n",
       "      <th>release_year</th>\n",
       "      <th>budget_adj</th>\n",
       "      <th>revenue_adj</th>\n",
       "    </tr>\n",
       "  </thead>\n",
       "  <tbody>\n",
       "    <tr>\n",
       "      <th>count</th>\n",
       "      <td>10866.000000</td>\n",
       "      <td>10866.000000</td>\n",
       "      <td>1.086600e+04</td>\n",
       "      <td>1.086600e+04</td>\n",
       "      <td>10866.000000</td>\n",
       "      <td>10866.000000</td>\n",
       "      <td>10866.000000</td>\n",
       "      <td>10866.000000</td>\n",
       "      <td>1.086600e+04</td>\n",
       "      <td>1.086600e+04</td>\n",
       "    </tr>\n",
       "    <tr>\n",
       "      <th>mean</th>\n",
       "      <td>66064.177434</td>\n",
       "      <td>0.646441</td>\n",
       "      <td>1.462570e+07</td>\n",
       "      <td>3.982332e+07</td>\n",
       "      <td>102.070863</td>\n",
       "      <td>217.389748</td>\n",
       "      <td>5.974922</td>\n",
       "      <td>2001.322658</td>\n",
       "      <td>1.755104e+07</td>\n",
       "      <td>5.136436e+07</td>\n",
       "    </tr>\n",
       "    <tr>\n",
       "      <th>std</th>\n",
       "      <td>92130.136561</td>\n",
       "      <td>1.000185</td>\n",
       "      <td>3.091321e+07</td>\n",
       "      <td>1.170035e+08</td>\n",
       "      <td>31.381405</td>\n",
       "      <td>575.619058</td>\n",
       "      <td>0.935142</td>\n",
       "      <td>12.812941</td>\n",
       "      <td>3.430616e+07</td>\n",
       "      <td>1.446325e+08</td>\n",
       "    </tr>\n",
       "    <tr>\n",
       "      <th>min</th>\n",
       "      <td>5.000000</td>\n",
       "      <td>0.000065</td>\n",
       "      <td>0.000000e+00</td>\n",
       "      <td>0.000000e+00</td>\n",
       "      <td>0.000000</td>\n",
       "      <td>10.000000</td>\n",
       "      <td>1.500000</td>\n",
       "      <td>1960.000000</td>\n",
       "      <td>0.000000e+00</td>\n",
       "      <td>0.000000e+00</td>\n",
       "    </tr>\n",
       "    <tr>\n",
       "      <th>25%</th>\n",
       "      <td>10596.250000</td>\n",
       "      <td>0.207583</td>\n",
       "      <td>0.000000e+00</td>\n",
       "      <td>0.000000e+00</td>\n",
       "      <td>90.000000</td>\n",
       "      <td>17.000000</td>\n",
       "      <td>5.400000</td>\n",
       "      <td>1995.000000</td>\n",
       "      <td>0.000000e+00</td>\n",
       "      <td>0.000000e+00</td>\n",
       "    </tr>\n",
       "    <tr>\n",
       "      <th>50%</th>\n",
       "      <td>20669.000000</td>\n",
       "      <td>0.383856</td>\n",
       "      <td>0.000000e+00</td>\n",
       "      <td>0.000000e+00</td>\n",
       "      <td>99.000000</td>\n",
       "      <td>38.000000</td>\n",
       "      <td>6.000000</td>\n",
       "      <td>2006.000000</td>\n",
       "      <td>0.000000e+00</td>\n",
       "      <td>0.000000e+00</td>\n",
       "    </tr>\n",
       "    <tr>\n",
       "      <th>75%</th>\n",
       "      <td>75610.000000</td>\n",
       "      <td>0.713817</td>\n",
       "      <td>1.500000e+07</td>\n",
       "      <td>2.400000e+07</td>\n",
       "      <td>111.000000</td>\n",
       "      <td>145.750000</td>\n",
       "      <td>6.600000</td>\n",
       "      <td>2011.000000</td>\n",
       "      <td>2.085325e+07</td>\n",
       "      <td>3.369710e+07</td>\n",
       "    </tr>\n",
       "    <tr>\n",
       "      <th>max</th>\n",
       "      <td>417859.000000</td>\n",
       "      <td>32.985763</td>\n",
       "      <td>4.250000e+08</td>\n",
       "      <td>2.781506e+09</td>\n",
       "      <td>900.000000</td>\n",
       "      <td>9767.000000</td>\n",
       "      <td>9.200000</td>\n",
       "      <td>2015.000000</td>\n",
       "      <td>4.250000e+08</td>\n",
       "      <td>2.827124e+09</td>\n",
       "    </tr>\n",
       "  </tbody>\n",
       "</table>\n",
       "</div>"
      ],
      "text/plain": [
       "                  id    popularity        budget       revenue       runtime  \\\n",
       "count   10866.000000  10866.000000  1.086600e+04  1.086600e+04  10866.000000   \n",
       "mean    66064.177434      0.646441  1.462570e+07  3.982332e+07    102.070863   \n",
       "std     92130.136561      1.000185  3.091321e+07  1.170035e+08     31.381405   \n",
       "min         5.000000      0.000065  0.000000e+00  0.000000e+00      0.000000   \n",
       "25%     10596.250000      0.207583  0.000000e+00  0.000000e+00     90.000000   \n",
       "50%     20669.000000      0.383856  0.000000e+00  0.000000e+00     99.000000   \n",
       "75%     75610.000000      0.713817  1.500000e+07  2.400000e+07    111.000000   \n",
       "max    417859.000000     32.985763  4.250000e+08  2.781506e+09    900.000000   \n",
       "\n",
       "         vote_count  vote_average  release_year    budget_adj   revenue_adj  \n",
       "count  10866.000000  10866.000000  10866.000000  1.086600e+04  1.086600e+04  \n",
       "mean     217.389748      5.974922   2001.322658  1.755104e+07  5.136436e+07  \n",
       "std      575.619058      0.935142     12.812941  3.430616e+07  1.446325e+08  \n",
       "min       10.000000      1.500000   1960.000000  0.000000e+00  0.000000e+00  \n",
       "25%       17.000000      5.400000   1995.000000  0.000000e+00  0.000000e+00  \n",
       "50%       38.000000      6.000000   2006.000000  0.000000e+00  0.000000e+00  \n",
       "75%      145.750000      6.600000   2011.000000  2.085325e+07  3.369710e+07  \n",
       "max     9767.000000      9.200000   2015.000000  4.250000e+08  2.827124e+09  "
      ]
     },
     "execution_count": 97,
     "metadata": {},
     "output_type": "execute_result"
    }
   ],
   "source": [
    "#To get summary of your data of columns with numeric values.\n",
    "data_mv.describe()"
   ]
  },
  {
   "cell_type": "code",
   "execution_count": 98,
   "id": "2be3752a",
   "metadata": {},
   "outputs": [
    {
     "name": "stdout",
     "output_type": "stream",
     "text": [
      "<class 'pandas.core.frame.DataFrame'>\n",
      "RangeIndex: 10866 entries, 0 to 10865\n",
      "Data columns (total 21 columns):\n",
      " #   Column                Non-Null Count  Dtype  \n",
      "---  ------                --------------  -----  \n",
      " 0   id                    10866 non-null  int64  \n",
      " 1   imdb_id               10856 non-null  object \n",
      " 2   popularity            10866 non-null  float64\n",
      " 3   budget                10866 non-null  int64  \n",
      " 4   revenue               10866 non-null  int64  \n",
      " 5   original_title        10866 non-null  object \n",
      " 6   cast                  10790 non-null  object \n",
      " 7   homepage              2936 non-null   object \n",
      " 8   director              10822 non-null  object \n",
      " 9   tagline               8042 non-null   object \n",
      " 10  keywords              9373 non-null   object \n",
      " 11  overview              10862 non-null  object \n",
      " 12  runtime               10866 non-null  int64  \n",
      " 13  genres                10843 non-null  object \n",
      " 14  production_companies  9836 non-null   object \n",
      " 15  release_date          10866 non-null  object \n",
      " 16  vote_count            10866 non-null  int64  \n",
      " 17  vote_average          10866 non-null  float64\n",
      " 18  release_year          10866 non-null  int64  \n",
      " 19  budget_adj            10866 non-null  float64\n",
      " 20  revenue_adj           10866 non-null  float64\n",
      "dtypes: float64(4), int64(6), object(11)\n",
      "memory usage: 1.7+ MB\n"
     ]
    }
   ],
   "source": [
    "#To get summary of my data and identify the null values and the complete titles of the data in the columns section\n",
    "data_mv.info()"
   ]
  },
  {
   "cell_type": "code",
   "execution_count": 99,
   "id": "cc80cfe0",
   "metadata": {},
   "outputs": [
    {
     "data": {
      "text/plain": [
       "id                         0\n",
       "imdb_id                   10\n",
       "popularity                 0\n",
       "budget                     0\n",
       "revenue                    0\n",
       "original_title             0\n",
       "cast                      76\n",
       "homepage                7930\n",
       "director                  44\n",
       "tagline                 2824\n",
       "keywords                1493\n",
       "overview                   4\n",
       "runtime                    0\n",
       "genres                    23\n",
       "production_companies    1030\n",
       "release_date               0\n",
       "vote_count                 0\n",
       "vote_average               0\n",
       "release_year               0\n",
       "budget_adj                 0\n",
       "revenue_adj                0\n",
       "dtype: int64"
      ]
     },
     "execution_count": 99,
     "metadata": {},
     "output_type": "execute_result"
    }
   ],
   "source": [
    "#To get the total missing values in my data\n",
    "data_mv.isnull().sum()"
   ]
  },
  {
   "cell_type": "code",
   "execution_count": 100,
   "id": "66f3f2d3",
   "metadata": {},
   "outputs": [
    {
     "name": "stdout",
     "output_type": "stream",
     "text": [
      "<class 'pandas.core.frame.DataFrame'>\n",
      "RangeIndex: 10866 entries, 0 to 10865\n",
      "Data columns (total 21 columns):\n",
      " #   Column                Non-Null Count  Dtype  \n",
      "---  ------                --------------  -----  \n",
      " 0   id                    10866 non-null  int64  \n",
      " 1   imdb_id               10866 non-null  object \n",
      " 2   popularity            10866 non-null  float64\n",
      " 3   budget                10866 non-null  int64  \n",
      " 4   revenue               10866 non-null  int64  \n",
      " 5   original_title        10866 non-null  object \n",
      " 6   cast                  10866 non-null  object \n",
      " 7   homepage              10866 non-null  object \n",
      " 8   director              10866 non-null  object \n",
      " 9   tagline               10866 non-null  object \n",
      " 10  keywords              10866 non-null  object \n",
      " 11  overview              10866 non-null  object \n",
      " 12  runtime               10866 non-null  int64  \n",
      " 13  genres                10866 non-null  object \n",
      " 14  production_companies  10866 non-null  object \n",
      " 15  release_date          10866 non-null  object \n",
      " 16  vote_count            10866 non-null  int64  \n",
      " 17  vote_average          10866 non-null  float64\n",
      " 18  release_year          10866 non-null  int64  \n",
      " 19  budget_adj            10866 non-null  float64\n",
      " 20  revenue_adj           10866 non-null  float64\n",
      "dtypes: float64(4), int64(6), object(11)\n",
      "memory usage: 1.7+ MB\n"
     ]
    }
   ],
   "source": [
    "#To fill in missing null values with 0\n",
    "data_mv.fillna(value=0, inplace=True)\n",
    "\n",
    "data_mv.info()"
   ]
  },
  {
   "cell_type": "markdown",
   "id": "7afc8152",
   "metadata": {},
   "source": [
    "                                    Data Cleaning "
   ]
  },
  {
   "cell_type": "code",
   "execution_count": 101,
   "id": "f0b60310",
   "metadata": {},
   "outputs": [
    {
     "data": {
      "text/plain": [
       "Index(['id', 'imdb_id', 'popularity', 'budget', 'revenue', 'original_title',\n",
       "       'cast', 'homepage', 'director', 'tagline', 'keywords', 'overview',\n",
       "       'runtime', 'genres', 'production_companies', 'release_date',\n",
       "       'vote_count', 'vote_average', 'release_year', 'budget_adj',\n",
       "       'revenue_adj'],\n",
       "      dtype='object')"
      ]
     },
     "execution_count": 101,
     "metadata": {},
     "output_type": "execute_result"
    }
   ],
   "source": [
    "#To have a clear view of my columns,so as to know which will be required for my anaylsis.\n",
    "data_mv.columns"
   ]
  },
  {
   "cell_type": "code",
   "execution_count": 102,
   "id": "2831ca10",
   "metadata": {},
   "outputs": [
    {
     "data": {
      "text/html": [
       "<div>\n",
       "<style scoped>\n",
       "    .dataframe tbody tr th:only-of-type {\n",
       "        vertical-align: middle;\n",
       "    }\n",
       "\n",
       "    .dataframe tbody tr th {\n",
       "        vertical-align: top;\n",
       "    }\n",
       "\n",
       "    .dataframe thead th {\n",
       "        text-align: right;\n",
       "    }\n",
       "</style>\n",
       "<table border=\"1\" class=\"dataframe\">\n",
       "  <thead>\n",
       "    <tr style=\"text-align: right;\">\n",
       "      <th></th>\n",
       "      <th>popularity</th>\n",
       "      <th>budget</th>\n",
       "      <th>revenue</th>\n",
       "      <th>original_title</th>\n",
       "      <th>director</th>\n",
       "      <th>runtime</th>\n",
       "      <th>genres</th>\n",
       "      <th>production_companies</th>\n",
       "      <th>release_date</th>\n",
       "      <th>release_year</th>\n",
       "    </tr>\n",
       "  </thead>\n",
       "  <tbody>\n",
       "    <tr>\n",
       "      <th>0</th>\n",
       "      <td>32.985763</td>\n",
       "      <td>150000000</td>\n",
       "      <td>1513528810</td>\n",
       "      <td>Jurassic World</td>\n",
       "      <td>Colin Trevorrow</td>\n",
       "      <td>124</td>\n",
       "      <td>Action|Adventure|Science Fiction|Thriller</td>\n",
       "      <td>Universal Studios|Amblin Entertainment|Legenda...</td>\n",
       "      <td>6/9/15</td>\n",
       "      <td>2015</td>\n",
       "    </tr>\n",
       "    <tr>\n",
       "      <th>1</th>\n",
       "      <td>28.419936</td>\n",
       "      <td>150000000</td>\n",
       "      <td>378436354</td>\n",
       "      <td>Mad Max: Fury Road</td>\n",
       "      <td>George Miller</td>\n",
       "      <td>120</td>\n",
       "      <td>Action|Adventure|Science Fiction|Thriller</td>\n",
       "      <td>Village Roadshow Pictures|Kennedy Miller Produ...</td>\n",
       "      <td>5/13/15</td>\n",
       "      <td>2015</td>\n",
       "    </tr>\n",
       "    <tr>\n",
       "      <th>2</th>\n",
       "      <td>13.112507</td>\n",
       "      <td>110000000</td>\n",
       "      <td>295238201</td>\n",
       "      <td>Insurgent</td>\n",
       "      <td>Robert Schwentke</td>\n",
       "      <td>119</td>\n",
       "      <td>Adventure|Science Fiction|Thriller</td>\n",
       "      <td>Summit Entertainment|Mandeville Films|Red Wago...</td>\n",
       "      <td>3/18/15</td>\n",
       "      <td>2015</td>\n",
       "    </tr>\n",
       "    <tr>\n",
       "      <th>3</th>\n",
       "      <td>11.173104</td>\n",
       "      <td>200000000</td>\n",
       "      <td>2068178225</td>\n",
       "      <td>Star Wars: The Force Awakens</td>\n",
       "      <td>J.J. Abrams</td>\n",
       "      <td>136</td>\n",
       "      <td>Action|Adventure|Science Fiction|Fantasy</td>\n",
       "      <td>Lucasfilm|Truenorth Productions|Bad Robot</td>\n",
       "      <td>12/15/15</td>\n",
       "      <td>2015</td>\n",
       "    </tr>\n",
       "    <tr>\n",
       "      <th>4</th>\n",
       "      <td>9.335014</td>\n",
       "      <td>190000000</td>\n",
       "      <td>1506249360</td>\n",
       "      <td>Furious 7</td>\n",
       "      <td>James Wan</td>\n",
       "      <td>137</td>\n",
       "      <td>Action|Crime|Thriller</td>\n",
       "      <td>Universal Pictures|Original Film|Media Rights ...</td>\n",
       "      <td>4/1/15</td>\n",
       "      <td>2015</td>\n",
       "    </tr>\n",
       "  </tbody>\n",
       "</table>\n",
       "</div>"
      ],
      "text/plain": [
       "   popularity     budget     revenue                original_title  \\\n",
       "0   32.985763  150000000  1513528810                Jurassic World   \n",
       "1   28.419936  150000000   378436354            Mad Max: Fury Road   \n",
       "2   13.112507  110000000   295238201                     Insurgent   \n",
       "3   11.173104  200000000  2068178225  Star Wars: The Force Awakens   \n",
       "4    9.335014  190000000  1506249360                     Furious 7   \n",
       "\n",
       "           director  runtime                                     genres  \\\n",
       "0   Colin Trevorrow      124  Action|Adventure|Science Fiction|Thriller   \n",
       "1     George Miller      120  Action|Adventure|Science Fiction|Thriller   \n",
       "2  Robert Schwentke      119         Adventure|Science Fiction|Thriller   \n",
       "3       J.J. Abrams      136   Action|Adventure|Science Fiction|Fantasy   \n",
       "4         James Wan      137                      Action|Crime|Thriller   \n",
       "\n",
       "                                production_companies release_date  \\\n",
       "0  Universal Studios|Amblin Entertainment|Legenda...       6/9/15   \n",
       "1  Village Roadshow Pictures|Kennedy Miller Produ...      5/13/15   \n",
       "2  Summit Entertainment|Mandeville Films|Red Wago...      3/18/15   \n",
       "3          Lucasfilm|Truenorth Productions|Bad Robot     12/15/15   \n",
       "4  Universal Pictures|Original Film|Media Rights ...       4/1/15   \n",
       "\n",
       "   release_year  \n",
       "0          2015  \n",
       "1          2015  \n",
       "2          2015  \n",
       "3          2015  \n",
       "4          2015  "
      ]
     },
     "execution_count": 102,
     "metadata": {},
     "output_type": "execute_result"
    }
   ],
   "source": [
    "#There are 21 columns in the dataset,I will be dropping some columns because they are not required in my analysis.\n",
    "data_mv.drop(['id','imdb_id','cast','homepage','tagline','keywords','overview','vote_count','vote_average','budget_adj','revenue_adj'], axis=1, inplace=True)\n",
    "\n",
    "data_mv.head()"
   ]
  },
  {
   "cell_type": "code",
   "execution_count": 103,
   "id": "e8fd900a",
   "metadata": {},
   "outputs": [
    {
     "data": {
      "text/plain": [
       "0   2015-06-09\n",
       "1   2015-05-13\n",
       "2   2015-03-18\n",
       "3   2015-12-15\n",
       "4   2015-04-01\n",
       "Name: release_date, dtype: datetime64[ns]"
      ]
     },
     "execution_count": 103,
     "metadata": {},
     "output_type": "execute_result"
    }
   ],
   "source": [
    "#To change the release_date format to datetime.\n",
    "data_mv['release_date'] = pd.to_datetime(data_mv['release_date'])\n",
    "data_mv['release_date'].head()"
   ]
  },
  {
   "cell_type": "code",
   "execution_count": 104,
   "id": "4002719e",
   "metadata": {},
   "outputs": [
    {
     "data": {
      "text/html": [
       "<div>\n",
       "<style scoped>\n",
       "    .dataframe tbody tr th:only-of-type {\n",
       "        vertical-align: middle;\n",
       "    }\n",
       "\n",
       "    .dataframe tbody tr th {\n",
       "        vertical-align: top;\n",
       "    }\n",
       "\n",
       "    .dataframe thead th {\n",
       "        text-align: right;\n",
       "    }\n",
       "</style>\n",
       "<table border=\"1\" class=\"dataframe\">\n",
       "  <thead>\n",
       "    <tr style=\"text-align: right;\">\n",
       "      <th></th>\n",
       "      <th>popularity</th>\n",
       "      <th>budget</th>\n",
       "      <th>revenue</th>\n",
       "      <th>original_title</th>\n",
       "      <th>director</th>\n",
       "      <th>runtime</th>\n",
       "      <th>genres</th>\n",
       "      <th>production_companies</th>\n",
       "      <th>release_date</th>\n",
       "      <th>release_year</th>\n",
       "      <th>£ budget</th>\n",
       "      <th>£ revenue</th>\n",
       "    </tr>\n",
       "  </thead>\n",
       "  <tbody>\n",
       "    <tr>\n",
       "      <th>0</th>\n",
       "      <td>32.985763</td>\n",
       "      <td>150000000</td>\n",
       "      <td>1513528810</td>\n",
       "      <td>Jurassic World</td>\n",
       "      <td>Colin Trevorrow</td>\n",
       "      <td>124</td>\n",
       "      <td>Action|Adventure|Science Fiction|Thriller</td>\n",
       "      <td>Universal Studios|Amblin Entertainment|Legenda...</td>\n",
       "      <td>2015-06-09</td>\n",
       "      <td>2015</td>\n",
       "      <td>150.0M</td>\n",
       "      <td>1513.53M</td>\n",
       "    </tr>\n",
       "    <tr>\n",
       "      <th>1</th>\n",
       "      <td>28.419936</td>\n",
       "      <td>150000000</td>\n",
       "      <td>378436354</td>\n",
       "      <td>Mad Max: Fury Road</td>\n",
       "      <td>George Miller</td>\n",
       "      <td>120</td>\n",
       "      <td>Action|Adventure|Science Fiction|Thriller</td>\n",
       "      <td>Village Roadshow Pictures|Kennedy Miller Produ...</td>\n",
       "      <td>2015-05-13</td>\n",
       "      <td>2015</td>\n",
       "      <td>150.0M</td>\n",
       "      <td>378.44M</td>\n",
       "    </tr>\n",
       "    <tr>\n",
       "      <th>2</th>\n",
       "      <td>13.112507</td>\n",
       "      <td>110000000</td>\n",
       "      <td>295238201</td>\n",
       "      <td>Insurgent</td>\n",
       "      <td>Robert Schwentke</td>\n",
       "      <td>119</td>\n",
       "      <td>Adventure|Science Fiction|Thriller</td>\n",
       "      <td>Summit Entertainment|Mandeville Films|Red Wago...</td>\n",
       "      <td>2015-03-18</td>\n",
       "      <td>2015</td>\n",
       "      <td>110.0M</td>\n",
       "      <td>295.24M</td>\n",
       "    </tr>\n",
       "    <tr>\n",
       "      <th>3</th>\n",
       "      <td>11.173104</td>\n",
       "      <td>200000000</td>\n",
       "      <td>2068178225</td>\n",
       "      <td>Star Wars: The Force Awakens</td>\n",
       "      <td>J.J. Abrams</td>\n",
       "      <td>136</td>\n",
       "      <td>Action|Adventure|Science Fiction|Fantasy</td>\n",
       "      <td>Lucasfilm|Truenorth Productions|Bad Robot</td>\n",
       "      <td>2015-12-15</td>\n",
       "      <td>2015</td>\n",
       "      <td>200.0M</td>\n",
       "      <td>2068.18M</td>\n",
       "    </tr>\n",
       "    <tr>\n",
       "      <th>4</th>\n",
       "      <td>9.335014</td>\n",
       "      <td>190000000</td>\n",
       "      <td>1506249360</td>\n",
       "      <td>Furious 7</td>\n",
       "      <td>James Wan</td>\n",
       "      <td>137</td>\n",
       "      <td>Action|Crime|Thriller</td>\n",
       "      <td>Universal Pictures|Original Film|Media Rights ...</td>\n",
       "      <td>2015-04-01</td>\n",
       "      <td>2015</td>\n",
       "      <td>190.0M</td>\n",
       "      <td>1506.25M</td>\n",
       "    </tr>\n",
       "  </tbody>\n",
       "</table>\n",
       "</div>"
      ],
      "text/plain": [
       "   popularity     budget     revenue                original_title  \\\n",
       "0   32.985763  150000000  1513528810                Jurassic World   \n",
       "1   28.419936  150000000   378436354            Mad Max: Fury Road   \n",
       "2   13.112507  110000000   295238201                     Insurgent   \n",
       "3   11.173104  200000000  2068178225  Star Wars: The Force Awakens   \n",
       "4    9.335014  190000000  1506249360                     Furious 7   \n",
       "\n",
       "           director  runtime                                     genres  \\\n",
       "0   Colin Trevorrow      124  Action|Adventure|Science Fiction|Thriller   \n",
       "1     George Miller      120  Action|Adventure|Science Fiction|Thriller   \n",
       "2  Robert Schwentke      119         Adventure|Science Fiction|Thriller   \n",
       "3       J.J. Abrams      136   Action|Adventure|Science Fiction|Fantasy   \n",
       "4         James Wan      137                      Action|Crime|Thriller   \n",
       "\n",
       "                                production_companies release_date  \\\n",
       "0  Universal Studios|Amblin Entertainment|Legenda...   2015-06-09   \n",
       "1  Village Roadshow Pictures|Kennedy Miller Produ...   2015-05-13   \n",
       "2  Summit Entertainment|Mandeville Films|Red Wago...   2015-03-18   \n",
       "3          Lucasfilm|Truenorth Productions|Bad Robot   2015-12-15   \n",
       "4  Universal Pictures|Original Film|Media Rights ...   2015-04-01   \n",
       "\n",
       "   release_year £ budget £ revenue  \n",
       "0          2015   150.0M  1513.53M  \n",
       "1          2015   150.0M   378.44M  \n",
       "2          2015   110.0M   295.24M  \n",
       "3          2015   200.0M  2068.18M  \n",
       "4          2015   190.0M  1506.25M  "
      ]
     },
     "execution_count": 104,
     "metadata": {},
     "output_type": "execute_result"
    }
   ],
   "source": [
    "#Since I will be using the budget and revenue,so I need to round of their values to the nearest millions. \n",
    "#we divide the both columns by 1,000,000. And create new columns for them. \n",
    "data_mv['£ budget']= (data_mv['budget'].astype(float)/1000000).round(2).astype(str) + 'M'\n",
    "data_mv['£ revenue']= (data_mv['revenue'].astype(float)/1000000).round(2).astype(str) + 'M'\n",
    "\n",
    "data_mv.head()"
   ]
  },
  {
   "cell_type": "code",
   "execution_count": 105,
   "id": "a53a367c",
   "metadata": {},
   "outputs": [
    {
     "data": {
      "text/plain": [
       "1"
      ]
     },
     "execution_count": 105,
     "metadata": {},
     "output_type": "execute_result"
    }
   ],
   "source": [
    "#To identify the number of duplicates in your data\n",
    "data_mv.duplicated().sum()"
   ]
  },
  {
   "cell_type": "code",
   "execution_count": 106,
   "id": "86482f89",
   "metadata": {},
   "outputs": [],
   "source": [
    "#To drop your duplicates: \n",
    "data_mv.drop_duplicates(inplace = True)\n"
   ]
  },
  {
   "cell_type": "code",
   "execution_count": 107,
   "id": "2c5921f1",
   "metadata": {},
   "outputs": [
    {
     "data": {
      "text/plain": [
       "array([[<AxesSubplot:title={'center':'popularity'}>,\n",
       "        <AxesSubplot:title={'center':'budget'}>],\n",
       "       [<AxesSubplot:title={'center':'revenue'}>,\n",
       "        <AxesSubplot:title={'center':'runtime'}>],\n",
       "       [<AxesSubplot:title={'center':'release_date'}>,\n",
       "        <AxesSubplot:title={'center':'release_year'}>]], dtype=object)"
      ]
     },
     "execution_count": 107,
     "metadata": {},
     "output_type": "execute_result"
    },
    {
     "data": {
      "image/png": "[encoded data removed]",
      "text/plain": [
       "<Figure size 864x720 with 6 Axes>"
      ]
     },
     "metadata": {
      "needs_background": "light"
     },
     "output_type": "display_data"
    }
   ],
   "source": [
    "#To get a histogram of our complete data.\n",
    "data_mv.hist(figsize=(12,10))"
   ]
  },
  {
   "cell_type": "code",
   "execution_count": 108,
   "id": "76d17d61",
   "metadata": {},
   "outputs": [],
   "source": [
    "data_mv.to_csv('my_movies_data_set')"
   ]
  },
  {
   "cell_type": "markdown",
   "id": "bda02cbe",
   "metadata": {},
   "source": [
    "                            EXPLORATORY ANALYSIS"
   ]
  },
  {
   "cell_type": "code",
   "execution_count": 109,
   "id": "1da58a90",
   "metadata": {},
   "outputs": [],
   "source": [
    "#We will import our seaborn to use for our plots. \n",
    "sns.set_context(\"talk\")\n",
    "sns.set_style(\"whitegrid\")\n",
    "colors = sns.color_palette('pastel')[0:5]"
   ]
  },
  {
   "cell_type": "markdown",
   "id": "ce669d0c",
   "metadata": {},
   "source": [
    "1. Which movie have the highest revenues and budget?"
   ]
  },
  {
   "cell_type": "code",
   "execution_count": 110,
   "id": "6c1bd77c",
   "metadata": {},
   "outputs": [],
   "source": [
    "def find_min_max(revenue):\n",
    "    #using idxmin() & idxmax() functions to find max and min value of revenue.\n",
    "    max_index = data_mv[revenue].idxmax()\n",
    "    min_index = data_mv[revenue].idxmin()\n",
    "    #select the highest and lowest value from revenue \n",
    "    high = pd.DataFrame(data_mv.loc[max_index,:])\n",
    "    low  = pd.DataFrame(data_mv.loc[min_index,:])\n",
    "\n",
    "    return pd.concat([high,low], axis=1)"
   ]
  },
  {
   "cell_type": "code",
   "execution_count": 111,
   "id": "6e1c0198",
   "metadata": {},
   "outputs": [
    {
     "data": {
      "text/html": [
       "<div>\n",
       "<style scoped>\n",
       "    .dataframe tbody tr th:only-of-type {\n",
       "        vertical-align: middle;\n",
       "    }\n",
       "\n",
       "    .dataframe tbody tr th {\n",
       "        vertical-align: top;\n",
       "    }\n",
       "\n",
       "    .dataframe thead th {\n",
       "        text-align: right;\n",
       "    }\n",
       "</style>\n",
       "<table border=\"1\" class=\"dataframe\">\n",
       "  <thead>\n",
       "    <tr style=\"text-align: right;\">\n",
       "      <th></th>\n",
       "      <th>1386</th>\n",
       "      <th>48</th>\n",
       "    </tr>\n",
       "  </thead>\n",
       "  <tbody>\n",
       "    <tr>\n",
       "      <th>popularity</th>\n",
       "      <td>9.432768</td>\n",
       "      <td>2.93234</td>\n",
       "    </tr>\n",
       "    <tr>\n",
       "      <th>budget</th>\n",
       "      <td>237000000</td>\n",
       "      <td>30000000</td>\n",
       "    </tr>\n",
       "    <tr>\n",
       "      <th>revenue</th>\n",
       "      <td>2781505847</td>\n",
       "      <td>0</td>\n",
       "    </tr>\n",
       "    <tr>\n",
       "      <th>original_title</th>\n",
       "      <td>Avatar</td>\n",
       "      <td>Wild Card</td>\n",
       "    </tr>\n",
       "    <tr>\n",
       "      <th>director</th>\n",
       "      <td>James Cameron</td>\n",
       "      <td>Simon West</td>\n",
       "    </tr>\n",
       "    <tr>\n",
       "      <th>runtime</th>\n",
       "      <td>162</td>\n",
       "      <td>92</td>\n",
       "    </tr>\n",
       "    <tr>\n",
       "      <th>genres</th>\n",
       "      <td>Action|Adventure|Fantasy|Science Fiction</td>\n",
       "      <td>Thriller|Crime|Drama</td>\n",
       "    </tr>\n",
       "    <tr>\n",
       "      <th>production_companies</th>\n",
       "      <td>Ingenious Film Partners|Twentieth Century Fox ...</td>\n",
       "      <td>Current Entertainment|Lionsgate|Sierra / Affin...</td>\n",
       "    </tr>\n",
       "    <tr>\n",
       "      <th>release_date</th>\n",
       "      <td>2009-12-10 00:00:00</td>\n",
       "      <td>2015-01-14 00:00:00</td>\n",
       "    </tr>\n",
       "    <tr>\n",
       "      <th>release_year</th>\n",
       "      <td>2009</td>\n",
       "      <td>2015</td>\n",
       "    </tr>\n",
       "    <tr>\n",
       "      <th>£ budget</th>\n",
       "      <td>237.0M</td>\n",
       "      <td>30.0M</td>\n",
       "    </tr>\n",
       "    <tr>\n",
       "      <th>£ revenue</th>\n",
       "      <td>2781.51M</td>\n",
       "      <td>0.0M</td>\n",
       "    </tr>\n",
       "  </tbody>\n",
       "</table>\n",
       "</div>"
      ],
      "text/plain": [
       "                                                                   1386  \\\n",
       "popularity                                                     9.432768   \n",
       "budget                                                        237000000   \n",
       "revenue                                                      2781505847   \n",
       "original_title                                                   Avatar   \n",
       "director                                                  James Cameron   \n",
       "runtime                                                             162   \n",
       "genres                         Action|Adventure|Fantasy|Science Fiction   \n",
       "production_companies  Ingenious Film Partners|Twentieth Century Fox ...   \n",
       "release_date                                        2009-12-10 00:00:00   \n",
       "release_year                                                       2009   \n",
       "£ budget                                                         237.0M   \n",
       "£ revenue                                                      2781.51M   \n",
       "\n",
       "                                                                   48    \n",
       "popularity                                                      2.93234  \n",
       "budget                                                         30000000  \n",
       "revenue                                                               0  \n",
       "original_title                                                Wild Card  \n",
       "director                                                     Simon West  \n",
       "runtime                                                              92  \n",
       "genres                                             Thriller|Crime|Drama  \n",
       "production_companies  Current Entertainment|Lionsgate|Sierra / Affin...  \n",
       "release_date                                        2015-01-14 00:00:00  \n",
       "release_year                                                       2015  \n",
       "£ budget                                                          30.0M  \n",
       "£ revenue                                                          0.0M  "
      ]
     },
     "execution_count": 111,
     "metadata": {},
     "output_type": "execute_result"
    }
   ],
   "source": [
    "find_min_max('revenue')"
   ]
  },
  {
   "cell_type": "code",
   "execution_count": 112,
   "id": "6725dbe1",
   "metadata": {},
   "outputs": [
    {
     "data": {
      "text/html": [
       "<div>\n",
       "<style scoped>\n",
       "    .dataframe tbody tr th:only-of-type {\n",
       "        vertical-align: middle;\n",
       "    }\n",
       "\n",
       "    .dataframe tbody tr th {\n",
       "        vertical-align: top;\n",
       "    }\n",
       "\n",
       "    .dataframe thead th {\n",
       "        text-align: right;\n",
       "    }\n",
       "</style>\n",
       "<table border=\"1\" class=\"dataframe\">\n",
       "  <thead>\n",
       "    <tr style=\"text-align: right;\">\n",
       "      <th></th>\n",
       "      <th>2244</th>\n",
       "      <th>30</th>\n",
       "    </tr>\n",
       "  </thead>\n",
       "  <tbody>\n",
       "    <tr>\n",
       "      <th>popularity</th>\n",
       "      <td>0.25054</td>\n",
       "      <td>3.927333</td>\n",
       "    </tr>\n",
       "    <tr>\n",
       "      <th>budget</th>\n",
       "      <td>425000000</td>\n",
       "      <td>0</td>\n",
       "    </tr>\n",
       "    <tr>\n",
       "      <th>revenue</th>\n",
       "      <td>11087569</td>\n",
       "      <td>29355203</td>\n",
       "    </tr>\n",
       "    <tr>\n",
       "      <th>original_title</th>\n",
       "      <td>The Warrior's Way</td>\n",
       "      <td>Mr. Holmes</td>\n",
       "    </tr>\n",
       "    <tr>\n",
       "      <th>director</th>\n",
       "      <td>Sngmoo Lee</td>\n",
       "      <td>Bill Condon</td>\n",
       "    </tr>\n",
       "    <tr>\n",
       "      <th>runtime</th>\n",
       "      <td>100</td>\n",
       "      <td>103</td>\n",
       "    </tr>\n",
       "    <tr>\n",
       "      <th>genres</th>\n",
       "      <td>Adventure|Fantasy|Action|Western|Thriller</td>\n",
       "      <td>Mystery|Drama</td>\n",
       "    </tr>\n",
       "    <tr>\n",
       "      <th>production_companies</th>\n",
       "      <td>Boram Entertainment Inc.</td>\n",
       "      <td>BBC Films|See-Saw Films|FilmNation Entertainme...</td>\n",
       "    </tr>\n",
       "    <tr>\n",
       "      <th>release_date</th>\n",
       "      <td>2010-12-02 00:00:00</td>\n",
       "      <td>2015-06-19 00:00:00</td>\n",
       "    </tr>\n",
       "    <tr>\n",
       "      <th>release_year</th>\n",
       "      <td>2010</td>\n",
       "      <td>2015</td>\n",
       "    </tr>\n",
       "    <tr>\n",
       "      <th>£ budget</th>\n",
       "      <td>425.0M</td>\n",
       "      <td>0.0M</td>\n",
       "    </tr>\n",
       "    <tr>\n",
       "      <th>£ revenue</th>\n",
       "      <td>11.09M</td>\n",
       "      <td>29.36M</td>\n",
       "    </tr>\n",
       "  </tbody>\n",
       "</table>\n",
       "</div>"
      ],
      "text/plain": [
       "                                                           2244  \\\n",
       "popularity                                              0.25054   \n",
       "budget                                                425000000   \n",
       "revenue                                                11087569   \n",
       "original_title                                The Warrior's Way   \n",
       "director                                             Sngmoo Lee   \n",
       "runtime                                                     100   \n",
       "genres                Adventure|Fantasy|Action|Western|Thriller   \n",
       "production_companies                   Boram Entertainment Inc.   \n",
       "release_date                                2010-12-02 00:00:00   \n",
       "release_year                                               2010   \n",
       "£ budget                                                 425.0M   \n",
       "£ revenue                                                11.09M   \n",
       "\n",
       "                                                                   30    \n",
       "popularity                                                     3.927333  \n",
       "budget                                                                0  \n",
       "revenue                                                        29355203  \n",
       "original_title                                               Mr. Holmes  \n",
       "director                                                    Bill Condon  \n",
       "runtime                                                             103  \n",
       "genres                                                    Mystery|Drama  \n",
       "production_companies  BBC Films|See-Saw Films|FilmNation Entertainme...  \n",
       "release_date                                        2015-06-19 00:00:00  \n",
       "release_year                                                       2015  \n",
       "£ budget                                                           0.0M  \n",
       "£ revenue                                                        29.36M  "
      ]
     },
     "execution_count": 112,
     "metadata": {},
     "output_type": "execute_result"
    }
   ],
   "source": [
    "find_min_max('budget')"
   ]
  },
  {
   "cell_type": "markdown",
   "id": "3dbb0f87",
   "metadata": {},
   "source": [
    "From the above analysis, Avatar was the movie with the highest revenue and The Warrior's Way is the movie with the highest budget. "
   ]
  },
  {
   "cell_type": "markdown",
   "id": "4f7830cc",
   "metadata": {},
   "source": [
    "2.Which movie made the highest profit?"
   ]
  },
  {
   "cell_type": "code",
   "execution_count": 113,
   "id": "a063e36e",
   "metadata": {},
   "outputs": [],
   "source": [
    "#To get the first movies with the highest profit. \n",
    "data_mv['profit'] = data_mv['revenue'] - data_mv['budget']"
   ]
  },
  {
   "cell_type": "code",
   "execution_count": 114,
   "id": "a00012ac",
   "metadata": {},
   "outputs": [],
   "source": [
    "data_mv['£ profit'] = (data_mv['profit'].astype(float)/1000000).round(2).astype(str) + 'M'"
   ]
  },
  {
   "cell_type": "code",
   "execution_count": 115,
   "id": "8cc7791a",
   "metadata": {},
   "outputs": [
    {
     "name": "stdout",
     "output_type": "stream",
     "text": [
      "                                 original_title  £ profit      profit\n",
      "0                                        Avatar   2544.51  2544505847\n",
      "1                  Star Wars: The Force Awakens   1868.18  1868178225\n",
      "2                                       Titanic   1645.03  1645034188\n",
      "3                                Jurassic World   1363.53  1363528810\n",
      "4                                     Furious 7   1316.25  1316249360\n",
      "5                                  The Avengers   1299.56  1299557910\n",
      "6  Harry Potter and the Deathly Hallows: Part 2   1202.82  1202817822\n",
      "7                       Avengers: Age of Ultron   1125.04  1125035767\n",
      "8                                        Frozen   1124.22  1124219009\n",
      "9                                       The Net   1084.28  1084279658\n"
     ]
    }
   ],
   "source": [
    "#To get the 10 top movies with the highest profit. \n",
    "data_mv.sort_values(by=['profit'], ascending = False, inplace=True, ignore_index=True)\n",
    "highest_10_pr= data_mv.loc[0:9, ('original_title','£ profit','profit')]\n",
    "highest_10_pr['£ profit'] = highest_10_pr['profit'].apply(lambda r: r/1000000).round(2)\n",
    "print(highest_10_pr)"
   ]
  },
  {
   "cell_type": "code",
   "execution_count": 116,
   "id": "5d553d3e",
   "metadata": {},
   "outputs": [
    {
     "data": {
      "image/png": "[encoded data removed]",
      "text/plain": [
       "<Figure size 1080x576 with 1 Axes>"
      ]
     },
     "metadata": {},
     "output_type": "display_data"
    }
   ],
   "source": [
    "plt.figure(figsize=(15,8))\n",
    "plt.bar(highest_10_pr['original_title'],highest_10_pr['profit'])\n",
    "plt.ylabel('£ profit')\n",
    "plt.xlabel('Movie title')\n",
    "plt.xticks(rotation=90)\n",
    "plt.title('Movies with the highest profit')\n",
    "plt.show()"
   ]
  },
  {
   "cell_type": "markdown",
   "id": "c89fb61c",
   "metadata": {},
   "source": [
    "As we can see on the Histogram above,the first 3 movies with the highest profit are Avatar,which generated over 2.5 billion Euros, followed by Star Wars: The Force Awakens with almost 1.8 billion Euros, and Titanic with 1.6 billion Euros. "
   ]
  },
  {
   "cell_type": "markdown",
   "id": "793538d9",
   "metadata": {},
   "source": [
    "3.Which movie company produced the movies with the highest revenues and budget?"
   ]
  },
  {
   "cell_type": "code",
   "execution_count": 117,
   "id": "d9cab0e3",
   "metadata": {},
   "outputs": [
    {
     "name": "stdout",
     "output_type": "stream",
     "text": [
      "0    Ingenious Film Partners|Twentieth Century Fox ...\n",
      "1            Lucasfilm|Truenorth Productions|Bad Robot\n",
      "2    Paramount Pictures|Twentieth Century Fox Film ...\n",
      "3                                       Marvel Studios\n",
      "4    Universal Studios|Amblin Entertainment|Legenda...\n",
      "5    Universal Pictures|Original Film|Media Rights ...\n",
      "6    Marvel Studios|Prime Focus|Revolution Sun Studios\n",
      "7    Warner Bros.|Heyday Films|Moving Picture Compa...\n",
      "8    Walt Disney Pictures|Walt Disney Animation Stu...\n",
      "9                                       Marvel Studios\n",
      "Name: production_companies, dtype: object\n"
     ]
    }
   ],
   "source": [
    "#To get the production companies with the highest revenue.\n",
    "data_mv.sort_values(by=['revenue'], ascending = False, inplace=True, ignore_index=True)\n",
    "highest_10_pdcrv= data_mv.loc[0:9, 'production_companies']\n",
    "print(highest_10_pdcrv)"
   ]
  },
  {
   "cell_type": "code",
   "execution_count": 118,
   "id": "109a529c",
   "metadata": {},
   "outputs": [
    {
     "data": {
      "text/plain": [
       "7880"
      ]
     },
     "execution_count": 118,
     "metadata": {},
     "output_type": "execute_result"
    }
   ],
   "source": [
    "highest_10_pdcrv['production_companies']=data_mv['production_companies'].astype(str)\n",
    "all_highest_10_pdcrv = highest_10_pdcrv['production_companies'].str.cat(sep = '|')\n",
    "all_highest_10_pdcrv = pd.Series(all_highest_10_pdcrv.split('|'))\n",
    "all_highest_10_pdcrv.nunique()\n"
   ]
  },
  {
   "cell_type": "code",
   "execution_count": 119,
   "id": "3448b874",
   "metadata": {},
   "outputs": [
    {
     "data": {
      "text/plain": [
       "0        Ingenious Film Partners|Twentieth Century Fox ...\n",
       "1                Lucasfilm|Truenorth Productions|Bad Robot\n",
       "2        Paramount Pictures|Twentieth Century Fox Film ...\n",
       "3                                           Marvel Studios\n",
       "4        Universal Studios|Amblin Entertainment|Legenda...\n",
       "                               ...                        \n",
       "10860                                                    0\n",
       "10861      Kinowelt Filmproduktion|MedienKontor Movie GmbH\n",
       "10862                                          WWE Studios\n",
       "10863                                                    0\n",
       "10864    thinkfilm|Starz Entertainment|Candy Heart Prod...\n",
       "Name: production_companies, Length: 10865, dtype: object"
      ]
     },
     "execution_count": 119,
     "metadata": {},
     "output_type": "execute_result"
    }
   ],
   "source": [
    "#To get the production companies with the highest revenue.\n",
    "data_mv.sort_values(by=['revenue'], ascending = False, inplace=True, ignore_index=True)\n",
    "highest_10_pdcrv= data_mv.loc[0:, 'production_companies']\n",
    "highest_10_pdcrv"
   ]
  },
  {
   "cell_type": "code",
   "execution_count": 120,
   "id": "d31e15ff",
   "metadata": {},
   "outputs": [
    {
     "data": {
      "text/plain": [
       "0                                 Boram Entertainment Inc.\n",
       "1        Walt Disney Pictures|Jerry Bruckheimer Films|M...\n",
       "2        Walt Disney Pictures|Jerry Bruckheimer Films|S...\n",
       "3        Marvel Studios|Prime Focus|Revolution Sun Studios\n",
       "4        DC Comics|Legendary Pictures|Warner Bros.|Bad ...\n",
       "                               ...                        \n",
       "10860                                     Lindisfarne SPV1\n",
       "10861                                                    0\n",
       "10862                               Against the Wild Films\n",
       "10863    CTB Film Company|Realitism Films|Rubber Films|...\n",
       "10864    thinkfilm|Starz Entertainment|Candy Heart Prod...\n",
       "Name: production_companies, Length: 10865, dtype: object"
      ]
     },
     "execution_count": 120,
     "metadata": {},
     "output_type": "execute_result"
    }
   ],
   "source": [
    "#To get the production companies with the highest budget.\n",
    "data_mv.sort_values(by=['budget'], ascending = False, inplace=True, ignore_index=True)\n",
    "highest_10_pdcbd= data_mv.loc[0:, 'production_companies']\n",
    "highest_10_pdcbd"
   ]
  },
  {
   "cell_type": "markdown",
   "id": "d8bfb577",
   "metadata": {},
   "source": [
    "As we can see from the analysis above ,the production companies - Ingenious Film Partners|Twentieth Century Fox produced the movies with the  highest revenue,while Boram Entertainment Inc. produced the movie with the highest budget."
   ]
  },
  {
   "cell_type": "markdown",
   "id": "ad08ace0",
   "metadata": {},
   "source": [
    "4.Which movies are the most popular? "
   ]
  },
  {
   "cell_type": "code",
   "execution_count": 121,
   "id": "c3993d83",
   "metadata": {},
   "outputs": [
    {
     "name": "stdout",
     "output_type": "stream",
     "text": [
      "0                           Jurassic World\n",
      "1                       Mad Max: Fury Road\n",
      "2                             Interstellar\n",
      "3                  Guardians of the Galaxy\n",
      "4                                Insurgent\n",
      "5      Captain America: The Winter Soldier\n",
      "6                                Star Wars\n",
      "7                                John Wick\n",
      "8             Star Wars: The Force Awakens\n",
      "9    The Hunger Games: Mockingjay - Part 1\n",
      "Name: original_title, dtype: object\n"
     ]
    }
   ],
   "source": [
    "#To get the 10 most popular movies\n",
    "data_mv.sort_values(by='popularity', ascending = False, inplace=True, ignore_index=True)\n",
    "highest_10_pop= data_mv.loc[0:9, 'original_title']\n",
    "print(highest_10_pop)\n"
   ]
  },
  {
   "cell_type": "markdown",
   "id": "af5d1d7d",
   "metadata": {},
   "source": [
    "As we can see the most popular movie is Jurassic World,followed by Mad Max: Fury Road and Intersellar. "
   ]
  },
  {
   "cell_type": "markdown",
   "id": "370721bf",
   "metadata": {},
   "source": [
    "5.Which year has the highest release_date of movies?"
   ]
  },
  {
   "cell_type": "code",
   "execution_count": 122,
   "id": "6742e95b",
   "metadata": {},
   "outputs": [],
   "source": [
    "data_mv_year= data_mv.groupby('release_year').count()['original_title'].to_frame()"
   ]
  },
  {
   "cell_type": "code",
   "execution_count": 123,
   "id": "5ceb0a8b",
   "metadata": {},
   "outputs": [
    {
     "data": {
      "image/png": "[encoded data removed]",
      "text/plain": [
       "<Figure size 720x576 with 1 Axes>"
      ]
     },
     "metadata": {},
     "output_type": "display_data"
    }
   ],
   "source": [
    "plt.figure(figsize=(10,8))\n",
    "sns.lineplot(x=data_mv_year.index, y= data_mv_year.original_title)\n",
    "plt.title('The year with the highest movies produced.')\n",
    "plt.xlim(1959.2017)\n",
    "plt.show()"
   ]
  },
  {
   "cell_type": "markdown",
   "id": "020d6553",
   "metadata": {},
   "source": [
    "As we can see the line plot above, the year with the highest movies produced is in 2014. "
   ]
  },
  {
   "cell_type": "markdown",
   "id": "6792c65f",
   "metadata": {},
   "source": [
    "6.Which months have the highest release_date?"
   ]
  },
  {
   "cell_type": "code",
   "execution_count": 124,
   "id": "18684396",
   "metadata": {},
   "outputs": [
    {
     "name": "stderr",
     "output_type": "stream",
     "text": [
      "C:\\Users\\Charles\\anaconda3\\Udacity\\lib\\site-packages\\seaborn\\_decorators.py:36: FutureWarning: Pass the following variable as a keyword arg: x. From version 0.12, the only valid positional argument will be `data`, and passing other arguments without an explicit keyword will result in an error or misinterpretation.\n",
      "  warnings.warn(\n"
     ]
    },
    {
     "data": {
      "image/png": "[encoded data removed]",
      "text/plain": [
       "<Figure size 720x576 with 1 Axes>"
      ]
     },
     "metadata": {},
     "output_type": "display_data"
    }
   ],
   "source": [
    "plt.figure(figsize=(10,8))\n",
    "sns.countplot(data_mv.release_date.dt.month)\n",
    "plt.title('Month with the highest movies released')\n",
    "plt.xticks([0,1,2,3,4,5,6,7,8,9,10,11],\n",
    "\n",
    "['Jan','Feb','Mar','Apr','May','Jun','Jul','Aug','Sep','Oct','Nov','Dec'])\n",
    "plt.show()"
   ]
  },
  {
   "cell_type": "markdown",
   "id": "fcfaaf38",
   "metadata": {},
   "source": [
    "As we can see from our data above, September is the month with the highest movies produced. Followed by the month of October and December. "
   ]
  },
  {
   "cell_type": "markdown",
   "id": "42748840",
   "metadata": {},
   "source": [
    "7.Which genres is the most popular from year to year?"
   ]
  },
  {
   "cell_type": "code",
   "execution_count": 125,
   "id": "3c85616e",
   "metadata": {
    "scrolled": true
   },
   "outputs": [
    {
     "name": "stdout",
     "output_type": "stream",
     "text": [
      "0        Action|Adventure|Science Fiction|Thriller\n",
      "1        Action|Adventure|Science Fiction|Thriller\n",
      "2                  Adventure|Drama|Science Fiction\n",
      "3                 Action|Science Fiction|Adventure\n",
      "4               Adventure|Science Fiction|Thriller\n",
      "                           ...                    \n",
      "10860                                       Comedy\n",
      "10861                               Comedy|Mystery\n",
      "10862                                       Comedy\n",
      "10863                         Mystery|Comedy|Drama\n",
      "10864                        Drama|History|Western\n",
      "Name: genres, Length: 10865, dtype: object\n"
     ]
    }
   ],
   "source": [
    "#To get the most popular genres with from year to year. \n",
    "data_mv.sort_values(by=['popularity'], ascending = False ,inplace=True, ignore_index=True)\n",
    "highest_gnr= data_mv.loc[0:, 'genres' ]\n",
    "print(highest_gnr)\n"
   ]
  },
  {
   "cell_type": "code",
   "execution_count": 126,
   "id": "662f9249",
   "metadata": {},
   "outputs": [
    {
     "name": "stdout",
     "output_type": "stream",
     "text": [
      "21\n"
     ]
    }
   ],
   "source": [
    "#To get the number of genres in my data set\n",
    "highest_gnr['genres']=data_mv['genres'].astype(str)\n",
    "all_highest_10_gn = highest_gnr['genres'].str.cat(sep = '|')\n",
    "all_highest_10_gn = pd.Series(all_highest_10_gn.split('|'))\n",
    "print(all_highest_10_gn.nunique())"
   ]
  },
  {
   "cell_type": "code",
   "execution_count": 127,
   "id": "3c69323f",
   "metadata": {},
   "outputs": [
    {
     "data": {
      "text/plain": [
       "Drama       4760\n",
       "Comedy      3793\n",
       "Thriller    2907\n",
       "Action      2384\n",
       "Romance     1712\n",
       "dtype: int64"
      ]
     },
     "execution_count": 127,
     "metadata": {},
     "output_type": "execute_result"
    }
   ],
   "source": [
    "#To count how many times the genres was used in our data set\n",
    "count_data_mv= all_highest_10_gn.value_counts(ascending=False)\n",
    "count_data_mv.head(5)"
   ]
  },
  {
   "cell_type": "markdown",
   "id": "4d473307",
   "metadata": {},
   "source": [
    "From the above analysis, Drama is the most popular ,followed by  Comedy,Thriller,Action,and Romance respectively."
   ]
  },
  {
   "cell_type": "markdown",
   "id": "9e321b51",
   "metadata": {},
   "source": [
    "8.Who directed the movies with the highest profits?"
   ]
  },
  {
   "cell_type": "code",
   "execution_count": 128,
   "id": "87bff071",
   "metadata": {},
   "outputs": [
    {
     "name": "stdout",
     "output_type": "stream",
     "text": [
      "                  director                                original_title\n",
      "0            James Cameron                                        Avatar\n",
      "1              J.J. Abrams                  Star Wars: The Force Awakens\n",
      "2            James Cameron                                       Titanic\n",
      "3          Colin Trevorrow                                Jurassic World\n",
      "4                James Wan                                     Furious 7\n",
      "5              Joss Whedon                                  The Avengers\n",
      "6              David Yates  Harry Potter and the Deathly Hallows: Part 2\n",
      "7              Joss Whedon                       Avengers: Age of Ultron\n",
      "8  Chris Buck|Jennifer Lee                                        Frozen\n",
      "9            Irwin Winkler                                       The Net\n"
     ]
    }
   ],
   "source": [
    "#To get the directors that directed the movies with high profits. \n",
    "data_mv.sort_values(by=['profit'], ascending = False, inplace=True, ignore_index=True)\n",
    "highest_10_dir= data_mv.loc[0:9, ('director','original_title')]\n",
    "print(highest_10_dir)"
   ]
  },
  {
   "cell_type": "markdown",
   "id": "693a51fe",
   "metadata": {},
   "source": [
    "From the analysis above, James Cameron is the director with the highest profit, from the movie Avatar. "
   ]
  },
  {
   "cell_type": "markdown",
   "id": "690c5a54",
   "metadata": {},
   "source": [
    "9.What movie have the longest runtime?"
   ]
  },
  {
   "cell_type": "code",
   "execution_count": 131,
   "id": "36a2a6da",
   "metadata": {},
   "outputs": [
    {
     "name": "stdout",
     "output_type": "stream",
     "text": [
      "                  original_title  runtime\n",
      "0  The Story of Film: An Odyssey      900\n",
      "1                          Taken      877\n",
      "2               Band of Brothers      705\n",
      "3                          Shoah      566\n",
      "4        North and South, Book I      561\n",
      "5                   Planet Earth      550\n",
      "6                    The Pacific      540\n",
      "7                     John Adams      501\n",
      "8                           Life      500\n",
      "9                Generation Kill      470\n"
     ]
    }
   ],
   "source": [
    "#To get info on the movies with the longest runtime. \n",
    "data_mv.sort_values(by=['runtime'], ascending = False, inplace=True, ignore_index=True)\n",
    "highest_10_run= data_mv.loc[0:9,('original_title','runtime')]\n",
    "print(highest_10_run)"
   ]
  },
  {
   "cell_type": "code",
   "execution_count": 132,
   "id": "eb1959e9",
   "metadata": {},
   "outputs": [
    {
     "data": {
      "text/plain": [
       "<function matplotlib.pyplot.show(close=None, block=None)>"
      ]
     },
     "execution_count": 132,
     "metadata": {},
     "output_type": "execute_result"
    },
    {
     "data": {
      "image/png": "[encoded data removed]",
      "text/plain": [
       "<Figure size 720x576 with 1 Axes>"
      ]
     },
     "metadata": {},
     "output_type": "display_data"
    }
   ],
   "source": [
    "#To get the average movie runtime. \n",
    "plt.figure(figsize=(10,8))\n",
    "run_time= sns.histplot(data_mv['runtime'], color = sns.color_palette('pastel')[5])\n",
    "run_time.axes.set_title('Average Movies runtime', fontsize=15)\n",
    "run_time.set_xlabel('runtime', fontsize=15)\n",
    "run_time.set_ylabel('release_year', fontsize=15)\n",
    "plt.show"
   ]
  },
  {
   "cell_type": "markdown",
   "id": "ed6b02ce",
   "metadata": {},
   "source": [
    "As we can see from the plot above, most movies have an average of 1hours30mins.'The Story of Film: An Odyssey' is the movie with the longest run time of 15hours. "
   ]
  },
  {
   "cell_type": "markdown",
   "id": "ce893c78",
   "metadata": {},
   "source": [
    "                                Conclusions"
   ]
  },
  {
   "cell_type": "markdown",
   "id": "08522586",
   "metadata": {},
   "source": [
    "1.The movies with the highest profits are Avatar, Star Wars:Star Wars: The Force Awakens and Titanic.\n",
    "2.The most popular movies are Jurassic World,Mad Max: Fury Road,and Interstellar.\n",
    "3.The  year 2014 saw the highest release of movies. \n",
    "4.The month of September,October and December are the best time to release movies,while Febraury is the least month for movie release. \n",
    "5.The most popular genres are - Drama,followed by  Comedy,Thriller,Action,and Romance respectively.\n",
    "6.The movie director is an important factor when it comes to movies production,two directors stand out with the movies with the highest profits. James Cameron and Joss Whedon. \n",
    "7.The Story of film : An Odyssey has the longest runtime of 15 hours and movie runtime have reduced with years. "
   ]
  },
  {
   "cell_type": "markdown",
   "id": "410570a1",
   "metadata": {},
   "source": [
    "My limitation is the with some rows in my dataset, that have 0 has their values, its giving me some errors in visualization of certain data values. \n",
    "\n",
    "Reference: GeekforGeeks.org,PythonGuides.com,w3resource.com\n"
   ]
  },
  {
   "cell_type": "code",
   "execution_count": null,
   "id": "161bf7f1",
   "metadata": {},
   "outputs": [],
   "source": []
  },
  {
   "cell_type": "code",
   "execution_count": null,
   "id": "732f9be9",
   "metadata": {},
   "outputs": [],
   "source": []
  }
 ],
 "metadata": {
  "kernelspec": {
   "display_name": "Python 3 (ipykernel)",
   "language": "python",
   "name": "python3"
  },
  "language_info": {
   "codemirror_mode": {
    "name": "ipython",
    "version": 3
   },
   "file_extension": ".py",
   "mimetype": "text/x-python",
   "name": "python",
   "nbconvert_exporter": "python",
   "pygments_lexer": "ipython3",
   "version": "3.9.12"
  }
 },
 "nbformat": 4,
 "nbformat_minor": 5
}
